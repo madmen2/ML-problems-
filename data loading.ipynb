{
 "cells": [
  {
   "cell_type": "code",
   "execution_count": 1,
   "metadata": {},
   "outputs": [],
   "source": [
    "from sklearn import datasets"
   ]
  },
  {
   "cell_type": "code",
   "execution_count": 3,
   "metadata": {},
   "outputs": [],
   "source": [
    "# 3 datasets from sklearn. boston = regression testing . iris =  classification. digits = image classification"
   ]
  },
  {
   "cell_type": "code",
   "execution_count": 8,
   "metadata": {},
   "outputs": [
    {
     "data": {
      "text/plain": [
       "array([ 0.,  0.,  5., 13.,  9.,  1.,  0.,  0.,  0.,  0., 13., 15., 10.,\n",
       "       15.,  5.,  0.,  0.,  3., 15.,  2.,  0., 11.,  8.,  0.,  0.,  4.,\n",
       "       12.,  0.,  0.,  8.,  8.,  0.,  0.,  5.,  8.,  0.,  0.,  9.,  8.,\n",
       "        0.,  0.,  4., 11.,  0.,  1., 12.,  7.,  0.,  0.,  2., 14.,  5.,\n",
       "       10., 12.,  0.,  0.,  0.,  0.,  6., 13., 10.,  0.,  0.,  0.])"
      ]
     },
     "execution_count": 8,
     "metadata": {},
     "output_type": "execute_result"
    }
   ],
   "source": [
    "digit = datasets.load_digits()\n",
    "features= digit.data #features matrix\n",
    "target= digit.target # target vector \n",
    "features[0]"
   ]
  },
  {
   "cell_type": "code",
   "execution_count": 19,
   "metadata": {},
   "outputs": [
    {
     "name": "stdout",
     "output_type": "stream",
     "text": [
      "Features\n",
      " [[ 1.29322588 -0.61736206 -0.11044703]\n",
      " [-2.793085    0.36633201  1.93752881]\n",
      " [ 0.80186103 -0.18656977  0.0465673 ]\n",
      " [ 0.12910158  0.50274088  1.6169496 ]]\n",
      "Target Vectors \n",
      " [-10.37865986  25.5124503   19.67705609 149.50205427]\n"
     ]
    }
   ],
   "source": [
    "#Q) generating dataset using linear regression\n",
    "from sklearn.datasets import make_regression\n",
    "\n",
    "features, target, coefficients= make_regression(n_samples=100,\n",
    "                                                n_features=3,\n",
    "                                                n_informative=3,\n",
    "                                                noise=0.0,\n",
    "                                                coef= True, \n",
    "                                                random_state=1)\n",
    "print('Features\\n',features[:4])\n",
    "print('Target Vectors \\n', target[:4])\n"
   ]
  },
  {
   "cell_type": "code",
   "execution_count": 22,
   "metadata": {},
   "outputs": [
    {
     "name": "stdout",
     "output_type": "stream",
     "text": [
      "Features\n",
      " [[ 1.06354768 -1.42632219  1.02163151]\n",
      " [ 0.23156977  1.49535261  0.33251578]\n",
      " [ 0.15972951  0.83533515 -0.40869554]\n",
      " [-0.70612133 -1.03281003  1.39477986]]\n",
      "Target Vectors \n",
      " [-10.37865986  25.5124503   19.67705609 149.50205427]\n"
     ]
    }
   ],
   "source": [
    "#Q) generating dataset using clssification \n",
    "from sklearn.datasets import make_classification\n",
    "features, targets =make_classification( n_samples = 100,\n",
    "                                              n_features = 3,\n",
    "                                              n_informative = 3,\n",
    "                                              n_redundant = 0,\n",
    "                                              n_classes = 2,\n",
    "                                              weights = [.25, .75],\n",
    "                                              random_state = 1)\n",
    "print('Features\\n',features[:4])\n",
    "print('Target Vectors \\n', target[:4])\n"
   ]
  },
  {
   "cell_type": "code",
   "execution_count": 29,
   "metadata": {},
   "outputs": [
    {
     "name": "stdout",
     "output_type": "stream",
     "text": [
      "Feature Matrix\n",
      " [[ -2.19655681   4.39635819 -10.89156078  -3.76581599]\n",
      " [ -6.72846376   8.19797132 -10.95077692   4.1458423 ]\n",
      " [ -2.0661637   -0.34096166  -2.3051628    4.24415923]]\n",
      "Target Vector\n",
      " [0 3 2]\n"
     ]
    },
    {
     "data": {
      "text/plain": [
       "<matplotlib.collections.PathCollection at 0x1b8881a7f70>"
      ]
     },
     "execution_count": 29,
     "metadata": {},
     "output_type": "execute_result"
    },
    {
     "data": {
      "image/png": "[encoded data removed]",
      "text/plain": [
       "<Figure size 432x288 with 1 Axes>"
      ]
     },
     "metadata": {
      "needs_background": "light"
     },
     "output_type": "display_data"
    }
   ],
   "source": [
    "#Q) generating dataset with clustering and display a scatter plot\n",
    "from sklearn.datasets import make_blobs\n",
    "import matplotlib.pyplot as plt\n",
    "features , target = make_blobs(n_samples = 100,\n",
    "                               n_features = 4,\n",
    "                               centers = 4,\n",
    "                               cluster_std = 0.8,\n",
    "                               shuffle = True,\n",
    "                                random_state = 1)\n",
    "print('Feature Matrix\\n', features[:3])\n",
    "print('Target Vector\\n', target[:3])\n",
    "\n",
    "#scatter plot\n",
    "plt.scatter(features[:,0], features[:,1], c=target )\n"
   ]
  },
  {
   "cell_type": "code",
   "execution_count": 10,
   "metadata": {},
   "outputs": [
    {
     "data": {
      "text/plain": [
       "(1313, 6)"
      ]
     },
     "execution_count": 10,
     "metadata": {},
     "output_type": "execute_result"
    }
   ],
   "source": [
    "#Data wrangling methods\n",
    "import pandas as pd\n",
    "# Create URL\n",
    "url = 'https://raw.githubusercontent.com/chrisalbon/simulated_datasets/master/titanic.csv'\n",
    "frame = pd.read_csv(url)\n",
    "# Show first 5 rows\n",
    "frame.head(2)\n",
    "frame.shape\n",
    "frame.describe"
   ]
  },
  {
   "cell_type": "code",
   "execution_count": null,
   "metadata": {},
   "outputs": [],
   "source": []
  }
 ],
 "metadata": {
  "interpreter": {
   "hash": "1baa965d5efe3ac65b79dfc60c0d706280b1da80fedb7760faf2759126c4f253"
  },
  "kernelspec": {
   "display_name": "Python 3.8.6 64-bit",
   "language": "python",
   "name": "python3"
  },
  "language_info": {
   "codemirror_mode": {
    "name": "ipython",
    "version": 3
   },
   "file_extension": ".py",
   "mimetype": "text/x-python",
   "name": "python",
   "nbconvert_exporter": "python",
   "pygments_lexer": "ipython3",
   "version": "3.8.6"
  },
  "orig_nbformat": 4
 },
 "nbformat": 4,
 "nbformat_minor": 2
}
