{
 "cells": [
  {
   "cell_type": "code",
   "execution_count": 13,
   "metadata": {},
   "outputs": [],
   "source": [
    "import numpy as np\n",
    "import scipy as sp\n",
    "from scipy import sparse \n",
    "#vector and matrices operations recap "
   ]
  },
  {
   "cell_type": "code",
   "execution_count": 26,
   "metadata": {},
   "outputs": [
    {
     "name": "stdout",
     "output_type": "stream",
     "text": [
      "  (0, 0)\t2\n",
      "  (0, 1)\t3\n",
      "  (1, 1)\t1\n",
      "  (2, 0)\t3\n",
      "  (1, 1)\t1\n",
      "  (2, 0)\t3\n"
     ]
    }
   ],
   "source": [
    "#sparse matrix = only stores non zero elements \n",
    "#csr = compressed sparse row \n",
    "matrix = np.array([[2,3],[0,1],[3,0]])\n",
    "sparse_matrix = sparse.csr_matrix(matrix)\n",
    "print(sparse_matrix)\n",
    "matrix_large = np.array([[0, 0, 0, 0, 0, 0, 0, 0, 0, 0],\n",
    " [0, 1, 0, 0, 0, 0, 0, 0, 0, 0],\n",
    " [3, 0, 0, 0, 0, 0, 0, 0, 0, 0]])\n",
    "large_sparse = sparse.csr_matrix(matrix_large)\n",
    "print(large_sparse)\n"
   ]
  },
  {
   "cell_type": "code",
   "execution_count": 53,
   "metadata": {},
   "outputs": [
    {
     "data": {
      "text/plain": [
       "array([[21, 22, 23],\n",
       "       [24, 25, 26],\n",
       "       [27, 28, 29]])"
      ]
     },
     "execution_count": 53,
     "metadata": {},
     "output_type": "execute_result"
    }
   ],
   "source": [
    "#Q) applying functions to array elements \n",
    "\n",
    "matrix= np.array([[1, 2, 3],\n",
    " [4, 5, 6],\n",
    " [7, 8, 9]])\n",
    "\n",
    "add_100 = lambda i:i+20\n",
    "vector= np.vectorize(add_100)\n",
    "vector(matrix)\n"
   ]
  },
  {
   "cell_type": "code",
   "execution_count": 67,
   "metadata": {},
   "outputs": [
    {
     "data": {
      "text/plain": [
       "array([[-1.66666667,  1.33333333],\n",
       "       [ 0.66666667, -0.33333333]])"
      ]
     },
     "execution_count": 67,
     "metadata": {},
     "output_type": "execute_result"
    }
   ],
   "source": [
    "matrix = np.array([[1, 1, 1],\n",
    " [1, 1, 10],\n",
    " [1, 1, 2]])\n",
    "rank= np.linalg.matrix_rank(matrix) #rank of matrix\n",
    "#diagonal\n",
    "dgl = matrix.diagonal()\n",
    "#offset parameter\n",
    "dgl1=matrix.diagonal(offset=1)\n",
    "#trace \n",
    "trace=matrix.trace()\n",
    "# or trace = sum(matrix.diagonal)\n",
    "\n",
    "#eigenvalues and eigenvectors \n",
    "eigenvalues, eigenvectors = np.linalg.eig(matrix)\n",
    "matrix_2 = np.array([[1, 4],\n",
    " [2, 5]])\n",
    "#inverse \n",
    "np.linalg.inv(matrix_2)"
   ]
  },
  {
   "cell_type": "code",
   "execution_count": null,
   "metadata": {},
   "outputs": [],
   "source": []
  }
 ],
 "metadata": {
  "interpreter": {
   "hash": "1baa965d5efe3ac65b79dfc60c0d706280b1da80fedb7760faf2759126c4f253"
  },
  "kernelspec": {
   "display_name": "Python 3.8.6 64-bit",
   "language": "python",
   "name": "python3"
  },
  "language_info": {
   "codemirror_mode": {
    "name": "ipython",
    "version": 3
   },
   "file_extension": ".py",
   "mimetype": "text/x-python",
   "name": "python",
   "nbconvert_exporter": "python",
   "pygments_lexer": "ipython3",
   "version": "3.8.6"
  },
  "orig_nbformat": 4
 },
 "nbformat": 4,
 "nbformat_minor": 2
}
